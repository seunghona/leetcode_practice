{
 "cells": [
  {
   "cell_type": "code",
   "execution_count": 3,
   "id": "0165fe90-0f62-46ac-bad9-b442c4765d92",
   "metadata": {},
   "outputs": [],
   "source": [
    "from typing import List\n",
    "def maxArea(height: List[int]) -> int:\n",
    "    idx1 = 0\n",
    "    idx2 = len(height)-1\n",
    "    maxarea = (idx2-idx1)*(min(height[idx1], height[idx2]))\n",
    "    while True:\n",
    "        if idx1>=idx2:\n",
    "            break\n",
    "        if height[idx1]<height[idx2]:\n",
    "            idx1+=1\n",
    "            area = (idx2-idx1)*(min(height[idx1], height[idx2]))\n",
    "            if area > maxarea:\n",
    "                maxarea = area\n",
    "        else:\n",
    "            idx2-=1\n",
    "            area = (idx2-idx1)*(min(height[idx1], height[idx2]))\n",
    "            if area > maxarea:\n",
    "                maxarea = area\n",
    "    return maxarea"
   ]
  },
  {
   "cell_type": "code",
   "execution_count": 5,
   "id": "d5a5cc09-ef86-480a-827e-44cc48edcaab",
   "metadata": {},
   "outputs": [
    {
     "data": {
      "text/plain": [
       "1"
      ]
     },
     "execution_count": 5,
     "metadata": {},
     "output_type": "execute_result"
    }
   ],
   "source": [
    "maxArea([1,1])"
   ]
  },
  {
   "cell_type": "code",
   "execution_count": null,
   "id": "71995d4c-bd18-41ba-bf15-fb04f3f85afb",
   "metadata": {},
   "outputs": [],
   "source": []
  }
 ],
 "metadata": {
  "kernelspec": {
   "display_name": "pytorch2.0",
   "language": "python",
   "name": "pytorch2.0"
  },
  "language_info": {
   "codemirror_mode": {
    "name": "ipython",
    "version": 3
   },
   "file_extension": ".py",
   "mimetype": "text/x-python",
   "name": "python",
   "nbconvert_exporter": "python",
   "pygments_lexer": "ipython3",
   "version": "3.8.18"
  }
 },
 "nbformat": 4,
 "nbformat_minor": 5
}
