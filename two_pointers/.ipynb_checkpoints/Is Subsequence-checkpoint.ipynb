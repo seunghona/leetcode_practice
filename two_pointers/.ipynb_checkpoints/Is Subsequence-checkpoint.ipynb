{
 "cells": [
  {
   "cell_type": "code",
   "execution_count": 9,
   "id": "7d5327ad-087c-4e14-9e0b-da24661ab95d",
   "metadata": {},
   "outputs": [],
   "source": [
    "def isSubsequence(s: str, t: str) -> bool:\n",
    "    idx = 0\n",
    "    if len(s)==0:\n",
    "        return True\n",
    "    for i in range(len(t)):\n",
    "        char = t[i]\n",
    "        if char==s[idx]:\n",
    "            idx+=1\n",
    "            if idx==len(s):\n",
    "                return True\n",
    "    return False"
   ]
  },
  {
   "cell_type": "code",
   "execution_count": 10,
   "id": "7bd0e4f7-85fe-429e-8dd5-5c9ab0c028ce",
   "metadata": {},
   "outputs": [
    {
     "name": "stdout",
     "output_type": "stream",
     "text": [
      "True\n"
     ]
    }
   ],
   "source": [
    "s = \"b\"\n",
    "t = \"abc\"\n",
    "print(isSubsequence(s,t))"
   ]
  },
  {
   "cell_type": "code",
   "execution_count": null,
   "id": "93c631f4-6102-4a3f-addc-6d69d23240a1",
   "metadata": {},
   "outputs": [],
   "source": []
  }
 ],
 "metadata": {
  "kernelspec": {
   "display_name": "pytorch2.0",
   "language": "python",
   "name": "pytorch2.0"
  },
  "language_info": {
   "codemirror_mode": {
    "name": "ipython",
    "version": 3
   },
   "file_extension": ".py",
   "mimetype": "text/x-python",
   "name": "python",
   "nbconvert_exporter": "python",
   "pygments_lexer": "ipython3",
   "version": "3.8.18"
  }
 },
 "nbformat": 4,
 "nbformat_minor": 5
}
