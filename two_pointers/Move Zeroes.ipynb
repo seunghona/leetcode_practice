{
 "cells": [
  {
   "cell_type": "markdown",
   "id": "0402994f-174a-458d-a1d4-0dfb834cfffb",
   "metadata": {},
   "source": [
    "### MINE"
   ]
  },
  {
   "cell_type": "code",
   "execution_count": 8,
   "id": "a01f881c-b48f-40a0-ad61-014a4f48e3b3",
   "metadata": {},
   "outputs": [],
   "source": [
    "# https://leetcode.com/problems/move-zeroes/description/?envType=study-plan-v2&envId=leetcode-75\n",
    "from typing import List\n",
    "def moveZeroes(nums: List[int]) -> None:\n",
    "    cnt = 0\n",
    "    idxs = []\n",
    "    for i in range(len(nums)):\n",
    "        if nums[i]==0:\n",
    "            cnt+=1\n",
    "            idxs.append(i)\n",
    "    for i in range(len(idxs)):\n",
    "        nums.append(0)\n",
    "        nums.pop(idxs[len(idxs)-1-i])"
   ]
  },
  {
   "cell_type": "code",
   "execution_count": 9,
   "id": "2bb88f8e-10d5-460c-8fc6-529afcf13aaa",
   "metadata": {},
   "outputs": [
    {
     "name": "stdout",
     "output_type": "stream",
     "text": [
      "[1, 3, 12, 0, 0]\n"
     ]
    }
   ],
   "source": [
    "nums = [0,1,0,3,12]\n",
    "moveZeroes(nums)\n",
    "print(nums)"
   ]
  },
  {
   "cell_type": "code",
   "execution_count": null,
   "id": "ce61e4f9-eecf-4bd1-ae17-a2de3922c0b3",
   "metadata": {},
   "outputs": [],
   "source": []
  }
 ],
 "metadata": {
  "kernelspec": {
   "display_name": "pytorch2.0",
   "language": "python",
   "name": "pytorch2.0"
  },
  "language_info": {
   "codemirror_mode": {
    "name": "ipython",
    "version": 3
   },
   "file_extension": ".py",
   "mimetype": "text/x-python",
   "name": "python",
   "nbconvert_exporter": "python",
   "pygments_lexer": "ipython3",
   "version": "3.8.18"
  }
 },
 "nbformat": 4,
 "nbformat_minor": 5
}
