{
 "cells": [
  {
   "cell_type": "markdown",
   "id": "f63ce985-b869-4e66-9cb0-0ffe59c77917",
   "metadata": {},
   "source": [
    "### MINE"
   ]
  },
  {
   "cell_type": "code",
   "execution_count": 13,
   "id": "319a06eb-8c1b-4429-93b1-55a5d3b2c437",
   "metadata": {},
   "outputs": [],
   "source": [
    "# https://leetcode.com/problems/kids-with-the-greatest-number-of-candies/description/?envType=study-plan-v2&envId=leetcode-75\n",
    "from typing import List\n",
    "def kidsWithCandies(candies: List[int], extraCandies: int) -> List[bool]:\n",
    "    max_ = max(candies)\n",
    "    ans = []\n",
    "    for val in candies:\n",
    "        if val+extraCandies>=max_:\n",
    "            ans.append(True)\n",
    "        else:\n",
    "            ans.append(False)\n",
    "    return ans"
   ]
  },
  {
   "cell_type": "code",
   "execution_count": 14,
   "id": "8582fef8-4e75-4b10-9eac-7366cdb7f714",
   "metadata": {},
   "outputs": [
    {
     "name": "stdout",
     "output_type": "stream",
     "text": [
      "[True, True, True, False, True]\n"
     ]
    }
   ],
   "source": [
    "candies = [2,3,5,1,3]\n",
    "extraCandies = 3\n",
    "print(kidsWithCandies(candies, extraCandies))"
   ]
  },
  {
   "cell_type": "code",
   "execution_count": null,
   "id": "30d7f8fe-ae9c-4f44-aaa0-772983c2c07f",
   "metadata": {},
   "outputs": [],
   "source": []
  }
 ],
 "metadata": {
  "kernelspec": {
   "display_name": "pytorch2.0",
   "language": "python",
   "name": "pytorch2.0"
  },
  "language_info": {
   "codemirror_mode": {
    "name": "ipython",
    "version": 3
   },
   "file_extension": ".py",
   "mimetype": "text/x-python",
   "name": "python",
   "nbconvert_exporter": "python",
   "pygments_lexer": "ipython3",
   "version": "3.8.18"
  }
 },
 "nbformat": 4,
 "nbformat_minor": 5
}
