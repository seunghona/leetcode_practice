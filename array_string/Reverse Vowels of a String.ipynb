{
 "cells": [
  {
   "cell_type": "markdown",
   "id": "82e419b0-6832-4311-a9a0-d770e3f00d54",
   "metadata": {},
   "source": [
    "### MINE"
   ]
  },
  {
   "cell_type": "code",
   "execution_count": 48,
   "id": "ba109db2-99c0-4881-88a4-1494a583c42e",
   "metadata": {},
   "outputs": [],
   "source": [
    "# https://leetcode.com/problems/reverse-vowels-of-a-string/description/?envType=study-plan-v2&envId=leetcode-75\n",
    "def reverseVowels(s: str) -> str:\n",
    "    if len(s)==1:\n",
    "        return s\n",
    "    s=list(s)\n",
    "    vowels = ['a', 'e', 'i', 'o', 'u']\n",
    "    fidx=0\n",
    "    bidx=len(s)-1\n",
    "    while True:\n",
    "        if s[fidx].lower() not in vowels:\n",
    "            fidx+=1\n",
    "        if s[bidx].lower() not in vowels:\n",
    "            bidx-=1\n",
    "        if s[fidx].lower() in vowels and s[bidx].lower() in vowels:\n",
    "            temp=s[fidx]\n",
    "            s[fidx]=s[bidx]\n",
    "            s[bidx]=temp\n",
    "            print(temp, s[fidx])\n",
    "            fidx+=1\n",
    "            bidx-=1\n",
    "        if fidx>=bidx:\n",
    "            break\n",
    "        print(fidx, bidx)\n",
    "    return ''.join(s)"
   ]
  },
  {
   "cell_type": "code",
   "execution_count": 49,
   "id": "98cc470b-c03f-49d4-9cc2-88019f0925fa",
   "metadata": {},
   "outputs": [
    {
     "name": "stdout",
     "output_type": "stream",
     "text": [
      "a a\n",
      "2 7\n",
      "3 6\n",
      "e a\n",
      "raca e car\n"
     ]
    }
   ],
   "source": [
    "s = \"race a car\"\n",
    "print(reverseVowels(s))"
   ]
  },
  {
   "cell_type": "code",
   "execution_count": null,
   "id": "26e5e506-91e5-4586-839e-7d8ed257305f",
   "metadata": {},
   "outputs": [],
   "source": []
  },
  {
   "cell_type": "code",
   "execution_count": null,
   "id": "30fd5339-ede0-4b8e-8315-58fb41472136",
   "metadata": {},
   "outputs": [],
   "source": []
  }
 ],
 "metadata": {
  "kernelspec": {
   "display_name": "pytorch2.0",
   "language": "python",
   "name": "pytorch2.0"
  },
  "language_info": {
   "codemirror_mode": {
    "name": "ipython",
    "version": 3
   },
   "file_extension": ".py",
   "mimetype": "text/x-python",
   "name": "python",
   "nbconvert_exporter": "python",
   "pygments_lexer": "ipython3",
   "version": "3.8.18"
  }
 },
 "nbformat": 4,
 "nbformat_minor": 5
}
