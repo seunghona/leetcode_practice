{
 "cells": [
  {
   "cell_type": "markdown",
   "id": "fe3b1877-b87f-4075-8659-04d92b6958ca",
   "metadata": {},
   "source": [
    "# MINE"
   ]
  },
  {
   "cell_type": "code",
   "execution_count": 12,
   "id": "f79649af-4a4b-4293-80bf-d7f8ab9a4a94",
   "metadata": {},
   "outputs": [],
   "source": [
    "# https://leetcode.com/problems/reverse-vowels-of-a-string/description/?envType=study-plan-v2&envId=leetcode-75\n",
    "def reverseWords(s: str) -> str:\n",
    "    lists = s.split()\n",
    "    ans = ''\n",
    "    for i in range(len(lists)):\n",
    "        ans+=lists[len(lists)-1-i]+' '\n",
    "    return ans.strip()"
   ]
  },
  {
   "cell_type": "code",
   "execution_count": 10,
   "id": "a57b1839-a0d7-47e2-af4f-0c876e16e0c0",
   "metadata": {},
   "outputs": [],
   "source": [
    "b='asdf asdf asdf '.split()"
   ]
  },
  {
   "cell_type": "code",
   "execution_count": 11,
   "id": "8b29f8f8-339c-477b-b1a5-6ac877cb128a",
   "metadata": {},
   "outputs": [
    {
     "data": {
      "text/plain": [
       "['asdf', 'asdf', 'asdf']"
      ]
     },
     "execution_count": 11,
     "metadata": {},
     "output_type": "execute_result"
    }
   ],
   "source": [
    "b"
   ]
  },
  {
   "cell_type": "code",
   "execution_count": null,
   "id": "99858ac0-b0f6-4f44-a635-f9d5ab473d65",
   "metadata": {},
   "outputs": [],
   "source": []
  }
 ],
 "metadata": {
  "kernelspec": {
   "display_name": "pytorch2.0",
   "language": "python",
   "name": "pytorch2.0"
  },
  "language_info": {
   "codemirror_mode": {
    "name": "ipython",
    "version": 3
   },
   "file_extension": ".py",
   "mimetype": "text/x-python",
   "name": "python",
   "nbconvert_exporter": "python",
   "pygments_lexer": "ipython3",
   "version": "3.8.18"
  }
 },
 "nbformat": 4,
 "nbformat_minor": 5
}
