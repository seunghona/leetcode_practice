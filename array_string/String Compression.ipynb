{
 "cells": [
  {
   "cell_type": "code",
   "execution_count": null,
   "id": "a23966fc-763d-4a57-89f5-6677733dd2fa",
   "metadata": {},
   "outputs": [],
   "source": []
  },
  {
   "cell_type": "code",
   "execution_count": 8,
   "id": "0a4c1cb7-c7a3-4d93-a0c8-4f4272b59f05",
   "metadata": {},
   "outputs": [],
   "source": [
    "# https://leetcode.com/problems/string-compression/description/?envType=study-plan-v2&envId=leetcode-75\n",
    "from typing import List\n",
    "def compress(chars: List[str]) -> int:\n",
    "    r_idx = 0\n",
    "    w_idx = 0\n",
    "    current = chars[r_idx]\n",
    "    cnt = 1\n",
    "    while r_idx<len(chars):\n",
    "        r_idx+=1\n",
    "        if r_idx == len(chars):\n",
    "            chars[w_idx]=current\n",
    "            w_idx+=1\n",
    "            if cnt>1:\n",
    "                for c in str(cnt):\n",
    "                    chars[w_idx]=c\n",
    "                    w_idx+=1\n",
    "            break\n",
    "        \n",
    "        if chars[r_idx]==current:\n",
    "            cnt+=1\n",
    "        else:\n",
    "            chars[w_idx]=current\n",
    "            w_idx+=1\n",
    "            if cnt>1:\n",
    "                for c in str(cnt):\n",
    "                    chars[w_idx]=c\n",
    "                    w_idx+=1\n",
    "            current = chars[r_idx]\n",
    "            cnt=1\n",
    "    return w_idx"
   ]
  },
  {
   "cell_type": "code",
   "execution_count": 13,
   "id": "6087cecf-7ea6-4bef-b95e-0e44b8dac4b2",
   "metadata": {},
   "outputs": [
    {
     "name": "stdout",
     "output_type": "stream",
     "text": [
      "6\n"
     ]
    }
   ],
   "source": [
    "chars = [\"a\",\"a\",\"b\",\"b\",\"c\",\"c\",\"c\"]\n",
    "print(compress(chars))"
   ]
  },
  {
   "cell_type": "code",
   "execution_count": 14,
   "id": "bcad5f28-315e-459c-985c-259206b29b7d",
   "metadata": {},
   "outputs": [
    {
     "data": {
      "text/plain": [
       "['a', '2', 'b', '2', 'c', '3', 'c']"
      ]
     },
     "execution_count": 14,
     "metadata": {},
     "output_type": "execute_result"
    }
   ],
   "source": [
    "chars[:compress(chars)]"
   ]
  },
  {
   "cell_type": "code",
   "execution_count": null,
   "id": "99e7fcab-2d23-432e-b4d5-938934ce865b",
   "metadata": {},
   "outputs": [],
   "source": []
  }
 ],
 "metadata": {
  "kernelspec": {
   "display_name": "pytorch2.0",
   "language": "python",
   "name": "pytorch2.0"
  },
  "language_info": {
   "codemirror_mode": {
    "name": "ipython",
    "version": 3
   },
   "file_extension": ".py",
   "mimetype": "text/x-python",
   "name": "python",
   "nbconvert_exporter": "python",
   "pygments_lexer": "ipython3",
   "version": "3.8.18"
  }
 },
 "nbformat": 4,
 "nbformat_minor": 5
}
