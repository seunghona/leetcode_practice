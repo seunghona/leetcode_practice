{
 "cells": [
  {
   "cell_type": "markdown",
   "id": "24f85195-d944-49da-b2ba-7c163a5e4c0d",
   "metadata": {},
   "source": [
    "### MINE"
   ]
  },
  {
   "cell_type": "code",
   "execution_count": 18,
   "id": "c154b169-2bff-4ace-a9af-3c48a819fde6",
   "metadata": {},
   "outputs": [],
   "source": [
    "# https://leetcode.com/problems/product-of-array-except-self/?envType=study-plan-v2&envId=leetcode-75\n",
    "from typing import List\n",
    "def productExceptSelf(nums: List[int]) -> List[int]:\n",
    "    leftmults = []\n",
    "    if nums[0]==0:\n",
    "        for i in range(len(nums)):\n",
    "            if i==0:\n",
    "                leftmults.append(1)\n",
    "            else:\n",
    "                leftmults.append(0)\n",
    "    else:\n",
    "        for i in range(len(nums)):\n",
    "            if i==0:\n",
    "                leftmults.append(1)\n",
    "            else:\n",
    "                leftmults.append(leftmults[i-1]*nums[i-1])\n",
    "    rightmults = []\n",
    "    if nums[-1]==0:\n",
    "        for i in range(len(nums)):\n",
    "            if i==0:\n",
    "                rightmults.append(1)\n",
    "            else:\n",
    "                rightmults.append(0)\n",
    "    else:\n",
    "        for i in range(len(nums)):\n",
    "            if i==0:\n",
    "                rightmults.append(1)\n",
    "            else:\n",
    "                rightmults.append(rightmults[i-1]*nums[len(nums)-i])\n",
    "    ans = []\n",
    "    for i in range(len(nums)):\n",
    "        ans.append(leftmults[i]*rightmults[len(nums)-1-i])\n",
    "    return ans"
   ]
  },
  {
   "cell_type": "code",
   "execution_count": 19,
   "id": "5650db11-6d5b-4c9e-947f-6adcee4f0ab7",
   "metadata": {},
   "outputs": [
    {
     "name": "stdout",
     "output_type": "stream",
     "text": [
      "[0, 0, 9, 0, 0]\n"
     ]
    }
   ],
   "source": [
    "nums = [-1,1,0,-3,3]\n",
    "print(productExceptSelf(nums))"
   ]
  },
  {
   "cell_type": "code",
   "execution_count": null,
   "id": "5dbade3f-9a30-4850-8199-e236ab973d7c",
   "metadata": {},
   "outputs": [],
   "source": []
  }
 ],
 "metadata": {
  "kernelspec": {
   "display_name": "pytorch2.0",
   "language": "python",
   "name": "pytorch2.0"
  },
  "language_info": {
   "codemirror_mode": {
    "name": "ipython",
    "version": 3
   },
   "file_extension": ".py",
   "mimetype": "text/x-python",
   "name": "python",
   "nbconvert_exporter": "python",
   "pygments_lexer": "ipython3",
   "version": "3.8.18"
  }
 },
 "nbformat": 4,
 "nbformat_minor": 5
}
