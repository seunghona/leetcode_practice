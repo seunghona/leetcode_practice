{
 "cells": [
  {
   "cell_type": "code",
   "execution_count": 16,
   "id": "49e97f4b-0ba4-4446-b4c7-c92254526de9",
   "metadata": {},
   "outputs": [],
   "source": [
    "def mergeAlternately(word1: str, word2: str) -> str:\n",
    "    idx1=0\n",
    "    idx2=0\n",
    "    ans=''\n",
    "    while True:\n",
    "        if idx1<len(word1):\n",
    "            ans=ans+word1[idx1]\n",
    "            idx1+=1\n",
    "        if idx2<len(word2):\n",
    "            ans=ans+word2[idx2]\n",
    "            idx2+=1\n",
    "        if idx1==len(word1) and idx2==len(word2):\n",
    "            break\n",
    "    return ans"
   ]
  },
  {
   "cell_type": "code",
   "execution_count": null,
   "id": "71b8590f-ea55-469e-9c74-a861d80a9e89",
   "metadata": {},
   "outputs": [],
   "source": [
    "def mergeAlternately(word1: str, word2: str) -> str:\n",
    "    merged = []\n",
    "\n",
    "    for a, b in zip(word1, word2):\n",
    "        merged.append(a + b)\n",
    "    \n",
    "    merged.append(word1[len(word2):])\n",
    "    merged.append(word2[len(word1):])\n",
    "    print(merged)\n",
    "    return \"\".join(merged)"
   ]
  },
  {
   "cell_type": "code",
   "execution_count": 17,
   "id": "ea278ae1-dc7a-417d-a1be-70a3b36559c6",
   "metadata": {},
   "outputs": [
    {
     "name": "stdout",
     "output_type": "stream",
     "text": [
      "['ap', 'bq', 'cr', '', '']\n",
      "apbqcr\n"
     ]
    }
   ],
   "source": [
    "word1 = 'abc'\n",
    "word2 = 'pqr'\n",
    "print(mergeAlternately(word1, word2))"
   ]
  },
  {
   "cell_type": "code",
   "execution_count": 14,
   "id": "40c1bab5-e2bf-4e17-a5d1-1f9ef3a4031a",
   "metadata": {},
   "outputs": [
    {
     "name": "stdout",
     "output_type": "stream",
     "text": [
      "apbqrs\n"
     ]
    }
   ],
   "source": [
    "word1 = \"ab\"\n",
    "word2 = \"pqrs\"\n",
    "print(mergeAlternately(word1, word2))"
   ]
  },
  {
   "cell_type": "code",
   "execution_count": 15,
   "id": "3a6109d1-a883-4b36-bb65-72018c4201b7",
   "metadata": {},
   "outputs": [
    {
     "name": "stdout",
     "output_type": "stream",
     "text": [
      "apbqcd\n"
     ]
    }
   ],
   "source": [
    "word1 = \"abcd\"\n",
    "word2 = \"pq\"\n",
    "print(mergeAlternately(word1, word2))"
   ]
  },
  {
   "cell_type": "code",
   "execution_count": null,
   "id": "61f77bf4-a7c6-489a-92c3-6ea1807a4ef8",
   "metadata": {},
   "outputs": [],
   "source": []
  }
 ],
 "metadata": {
  "kernelspec": {
   "display_name": "pytorch2.0",
   "language": "python",
   "name": "pytorch2.0"
  },
  "language_info": {
   "codemirror_mode": {
    "name": "ipython",
    "version": 3
   },
   "file_extension": ".py",
   "mimetype": "text/x-python",
   "name": "python",
   "nbconvert_exporter": "python",
   "pygments_lexer": "ipython3",
   "version": "3.8.18"
  }
 },
 "nbformat": 4,
 "nbformat_minor": 5
}
