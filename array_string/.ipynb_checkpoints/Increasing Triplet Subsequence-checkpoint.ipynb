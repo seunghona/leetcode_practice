{
 "cells": [
  {
   "cell_type": "code",
   "execution_count": null,
   "id": "11e050fc-1df6-44d4-bb2b-ca8502093f6d",
   "metadata": {},
   "outputs": [],
   "source": []
  },
  {
   "cell_type": "code",
   "execution_count": 7,
   "id": "3c256187-ab64-428d-8ffd-04eb2e490bc1",
   "metadata": {},
   "outputs": [],
   "source": [
    "# https://leetcode.com/problems/increasing-triplet-subsequence/?envType=study-plan-v2&envId=leetcode-75\n",
    "from typing import List\n",
    "def increasingTriplet(nums: List[int]) -> bool:\n",
    "    c1=c2=c3=float('inf')\n",
    "    for n in nums:\n",
    "        if n<=c1:\n",
    "            c1=n\n",
    "        elif n<=c2:\n",
    "            c2=n\n",
    "        elif n<=c3:\n",
    "            return True\n",
    "    return False"
   ]
  },
  {
   "cell_type": "code",
   "execution_count": 8,
   "id": "31ae396c-ff72-466a-9639-282679aff58e",
   "metadata": {},
   "outputs": [
    {
     "name": "stdout",
     "output_type": "stream",
     "text": [
      "False\n"
     ]
    }
   ],
   "source": [
    "nums = [1,1,1,1,1,1,1]\n",
    "print(increasingTriplet(nums))"
   ]
  },
  {
   "cell_type": "code",
   "execution_count": null,
   "id": "c339e397-d767-4ccb-bc6c-5a4759355aa1",
   "metadata": {},
   "outputs": [],
   "source": []
  }
 ],
 "metadata": {
  "kernelspec": {
   "display_name": "pytorch2.0",
   "language": "python",
   "name": "pytorch2.0"
  },
  "language_info": {
   "codemirror_mode": {
    "name": "ipython",
    "version": 3
   },
   "file_extension": ".py",
   "mimetype": "text/x-python",
   "name": "python",
   "nbconvert_exporter": "python",
   "pygments_lexer": "ipython3",
   "version": "3.8.18"
  }
 },
 "nbformat": 4,
 "nbformat_minor": 5
}
