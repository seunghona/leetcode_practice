{
 "cells": [
  {
   "cell_type": "markdown",
   "id": "208cadfd-3155-43f2-a2e3-f231b5742da3",
   "metadata": {},
   "source": [
    "### MINE"
   ]
  },
  {
   "cell_type": "code",
   "execution_count": 7,
   "id": "be5745ba-808c-49c8-9638-ebf58bae171e",
   "metadata": {},
   "outputs": [],
   "source": [
    "# https://leetcode.com/problems/can-place-flowers/description/?envType=study-plan-v2&envId=leetcode-75\n",
    "from typing import List\n",
    "import math\n",
    "def canPlaceFlowers(flowerbed: List[int], n: int) -> bool:\n",
    "    if sum(flowerbed)==0:\n",
    "        return n<=math.ceil(len(flowerbed)/2)\n",
    "    total = 0\n",
    "    start = 1\n",
    "    while True:\n",
    "        if start==1:\n",
    "            flowers, idx = untilFirstFlower(flowerbed)\n",
    "            start=0\n",
    "        else:\n",
    "            flowers, idx = untilNextFlower(flowerbed, idx)\n",
    "        print(flowers)\n",
    "        total+=flowers\n",
    "        if idx==len(flowerbed):\n",
    "            break\n",
    "    # print(total)\n",
    "    if n > total:\n",
    "        return False\n",
    "    return True\n",
    "\n",
    "def untilFirstFlower(flowerbed: List[int]) -> (int, int):\n",
    "    if flowerbed[0]==1:\n",
    "        return 0, 0\n",
    "    else:\n",
    "        place=0\n",
    "        for i in range(len(flowerbed)):\n",
    "            if flowerbed[i]==1:\n",
    "                place = i\n",
    "                break\n",
    "        # print(round(place/2), place)\n",
    "        return math.floor(place/2), place\n",
    "                \n",
    "def untilNextFlower(flowerbed: List[int], start_idx) -> (int, int):\n",
    "    if start_idx==len(flowerbed)-1:\n",
    "        return 0, len(flowerbed)\n",
    "    else:\n",
    "        next = len(flowerbed)\n",
    "        for i in range(start_idx+1, len(flowerbed)):\n",
    "            if flowerbed[i]==1:\n",
    "                next = i\n",
    "                break\n",
    "        # print(next)\n",
    "        if next==start_idx+1:\n",
    "            return 0, next\n",
    "        else:\n",
    "            if next == len(flowerbed):\n",
    "                return math.ceil((next-start_idx)/2)-1, next\n",
    "            else:\n",
    "                return math.ceil((next-start_idx-1)/2)-1, next"
   ]
  },
  {
   "cell_type": "markdown",
   "id": "28f0f331-5a76-46a8-9419-98cc2674f701",
   "metadata": {},
   "source": [
    "### New"
   ]
  },
  {
   "cell_type": "code",
   "execution_count": 48,
   "id": "febc39ef-b232-4d91-8a93-34bae6debd45",
   "metadata": {},
   "outputs": [],
   "source": [
    "from typing import List\n",
    "import math\n",
    "def canPlaceFlowers(flowerbed: List[int], n: int) -> bool:\n",
    "    if sum(flowerbed)==0:\n",
    "        return n<=math.ceil(len(flowerbed)/2)\n",
    "    idx = 0\n",
    "    total = 0\n",
    "    while idx<len(flowerbed)-1:\n",
    "        # print(idx)            \n",
    "        if flowerbed[idx]==0 and flowerbed[idx+1]==0:\n",
    "            total+=1\n",
    "            idx+=2\n",
    "        elif flowerbed[idx]==0 and flowerbed[idx+1]==1:\n",
    "            idx+=3\n",
    "        elif flowerbed[idx]==1:\n",
    "            idx+=2\n",
    "    print(idx)\n",
    "    if idx==len(flowerbed)-1:\n",
    "        if flowerbed[idx]==0 and flowerbed[idx-1]==0:\n",
    "            total+=1\n",
    "    print(total)\n",
    "    if n>total:\n",
    "        return False\n",
    "    return True\n",
    "            "
   ]
  },
  {
   "cell_type": "code",
   "execution_count": 49,
   "id": "8a9b5c7a-6fc9-4252-8415-6a6d3b001775",
   "metadata": {},
   "outputs": [
    {
     "name": "stdout",
     "output_type": "stream",
     "text": [
      "85\n",
      "15\n",
      "False\n"
     ]
    }
   ],
   "source": [
    "flowerbed = [0,0,1,0,0,0,0,1,0,1,0,0,0,1,0,0,1,0,1,0,1,0,0,0,1,0,1,0,1,0,0,1,0,0,0,0,0,1,0,1,0,0,0,1,0,0,1,0,0,0,1,0,0,1,0,0,1,0,0,0,1,0,0,0,0,1,0,0,1,0,0,0,0,1,0,0,0,1,0,1,0,0,0,0,0,0]\n",
    "n = 17\n",
    "print(canPlaceFlowers(flowerbed, n))"
   ]
  },
  {
   "cell_type": "code",
   "execution_count": 9,
   "id": "7cd64c94-2804-408d-9e19-bf88785688c6",
   "metadata": {},
   "outputs": [
    {
     "data": {
      "text/plain": [
       "1"
      ]
     },
     "execution_count": 9,
     "metadata": {},
     "output_type": "execute_result"
    }
   ],
   "source": [
    "math.ceil(len(flowerbed)/2)"
   ]
  },
  {
   "cell_type": "code",
   "execution_count": null,
   "id": "52d5855b-74b8-4585-8424-99cbaa7e3c8b",
   "metadata": {},
   "outputs": [],
   "source": []
  }
 ],
 "metadata": {
  "kernelspec": {
   "display_name": "pytorch2.0",
   "language": "python",
   "name": "pytorch2.0"
  },
  "language_info": {
   "codemirror_mode": {
    "name": "ipython",
    "version": 3
   },
   "file_extension": ".py",
   "mimetype": "text/x-python",
   "name": "python",
   "nbconvert_exporter": "python",
   "pygments_lexer": "ipython3",
   "version": "3.8.18"
  }
 },
 "nbformat": 4,
 "nbformat_minor": 5
}
