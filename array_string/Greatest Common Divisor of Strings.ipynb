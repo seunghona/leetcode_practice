{
 "cells": [
  {
   "cell_type": "markdown",
   "id": "1b305ca6-4427-4eea-96e0-78ca8f2dacca",
   "metadata": {},
   "source": [
    "### MINE"
   ]
  },
  {
   "cell_type": "code",
   "execution_count": 25,
   "id": "9365eacf-d64d-45a4-ad93-90df7d3b8db9",
   "metadata": {},
   "outputs": [],
   "source": [
    "# https://leetcode.com/problems/greatest-common-divisor-of-strings/description/?envType=study-plan-v2&envId=leetcode-75\n",
    "\n",
    "def gcdOfStrings(str1: str, str2: str) -> str:\n",
    "    len1 = len(str1)\n",
    "    len2 = len(str2)\n",
    "    if len1==len2:\n",
    "        if str1==str2:\n",
    "            return str1\n",
    "        else:\n",
    "            return ''\n",
    "    gcd = ''\n",
    "    if len1 < len2:\n",
    "        num = 1\n",
    "        while True:\n",
    "            if len1%num==0:\n",
    "                gcd_temp = str1[:int((len1/num))]\n",
    "                if multipleStrings(str1, gcd_temp)==1 and multipleStrings(str2, gcd_temp)==1:\n",
    "                    return gcd_temp\n",
    "            num+=1\n",
    "            if num>len1/2:\n",
    "                break\n",
    "    elif len2 < len1:\n",
    "        num = 1\n",
    "        while True:\n",
    "            if len2%num==0:\n",
    "                gcd_temp = str2[:int((len2/num))]\n",
    "                if multipleStrings(str1, gcd_temp)==1 and multipleStrings(str2, gcd_temp)==1:\n",
    "                    return gcd_temp\n",
    "            num+=1\n",
    "            if num>len2/2:\n",
    "                break\n",
    "    return gcd\n",
    "    \n",
    "def multipleStrings(big: str, small: str) -> int:\n",
    "    nums = len(big)%len(small)\n",
    "    if nums!=0:\n",
    "        return 0\n",
    "    check = ''\n",
    "    for i in range(int(len(big)/len(small))):\n",
    "        check=check+small\n",
    "    if big == check:\n",
    "        return 1\n",
    "    else:\n",
    "        return 0"
   ]
  },
  {
   "cell_type": "markdown",
   "id": "8c73e56f-fa36-488f-b0de-3d9bc104da1c",
   "metadata": {},
   "source": [
    "### NEW"
   ]
  },
  {
   "cell_type": "code",
   "execution_count": 90,
   "id": "188e8699-3ff5-4ae3-842a-0b73524375b7",
   "metadata": {},
   "outputs": [],
   "source": [
    "def gcdOfStrings(str1: str, str2: str) -> str:\n",
    "    if str1+str2!=str2+str1:\n",
    "        return ''\n",
    "    gcd = ''\n",
    "    total = str1+str2\n",
    "    if str1<str2:\n",
    "        smaller = str1\n",
    "    else:\n",
    "        smaller = str2\n",
    "\n",
    "    num = round(len(total)/len(smaller))\n",
    "    \n",
    "    while True:\n",
    "        if len(total)%num==0:\n",
    "            gcd_temp = total[:int((len(total)/num))]\n",
    "            if multipleStrings(total, gcd_temp)==1 and len(smaller)%len(gcd_temp)==0:\n",
    "                return gcd_temp\n",
    "        num+=1\n",
    "        if (len(total)/num)>min(len(str1), len(str2)):\n",
    "            break\n",
    "    return gcd\n",
    "    \n",
    "def multipleStrings(big: str, small: str) -> int:\n",
    "    nums = len(big)%len(small)\n",
    "    if nums!=0:\n",
    "        return 0\n",
    "    check = ''\n",
    "    for i in range(int(len(big)/len(small))):\n",
    "        check=check+small\n",
    "    if big == check:\n",
    "        return 1\n",
    "    else:\n",
    "        return 0"
   ]
  },
  {
   "cell_type": "code",
   "execution_count": 91,
   "id": "6ec453b3-cfd8-4135-a98e-9b46bdf7d552",
   "metadata": {},
   "outputs": [
    {
     "name": "stdout",
     "output_type": "stream",
     "text": [
      "TAUXXTAUXXTAUX 5\n",
      "TAUXXTAUXX 7\n",
      "TAUXXTA 10\n",
      "TAUXX 14\n",
      "TAUXX\n"
     ]
    }
   ],
   "source": [
    "str1 = \"TAUXXTAUXXTAUXXTAUXXTAUXX\"\n",
    "str2 = \"TAUXXTAUXXTAUXXTAUXXTAUXXTAUXXTAUXXTAUXXTAUXX\"\n",
    "print(gcdOfStrings(str1, str2))"
   ]
  },
  {
   "cell_type": "code",
   "execution_count": null,
   "id": "f1b6767b-5d3d-4fea-8dba-11ddc3a9d9a2",
   "metadata": {},
   "outputs": [],
   "source": []
  }
 ],
 "metadata": {
  "kernelspec": {
   "display_name": "pytorch2.0",
   "language": "python",
   "name": "pytorch2.0"
  },
  "language_info": {
   "codemirror_mode": {
    "name": "ipython",
    "version": 3
   },
   "file_extension": ".py",
   "mimetype": "text/x-python",
   "name": "python",
   "nbconvert_exporter": "python",
   "pygments_lexer": "ipython3",
   "version": "3.8.18"
  }
 },
 "nbformat": 4,
 "nbformat_minor": 5
}
