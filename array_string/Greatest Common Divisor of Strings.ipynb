{
 "cells": [
  {
   "cell_type": "code",
   "execution_count": 36,
   "id": "9365eacf-d64d-45a4-ad93-90df7d3b8db9",
   "metadata": {},
   "outputs": [],
   "source": [
    "def gcdOfStrings(str1: str, str2: str) -> str:\n",
    "    len1 = len(str1)\n",
    "    len2 = len(str2)\n",
    "    if len1==len2:\n",
    "        if str1==str2:\n",
    "            return str1\n",
    "        else:\n",
    "            return ''\n",
    "    gcd = ''\n",
    "    if len1 < len2:\n",
    "        num = 1\n",
    "        while True:\n",
    "            if len1%num==0:\n",
    "                gcd_temp = str1[:num]\n",
    "                if multipleStrings(str2, gcd_temp)==1 and multipleStrings(str1, gcd_temp)==1:\n",
    "                    gcd = gcd_temp\n",
    "            num+=1\n",
    "            if num>len1/2:\n",
    "                break\n",
    "    elif len2 < len1:\n",
    "        num = 1\n",
    "        while True:\n",
    "            if len2%num==0:\n",
    "                gcd_temp = str2[:int((len2/num))]\n",
    "                print(gcd_temp)\n",
    "                if multipleStrings(str1, gcd_temp)==1 and multipleStrings(str2, gcd_temp)==1:\n",
    "                    gcd = gcd_temp\n",
    "            num+=1\n",
    "            if num>len2:\n",
    "                break\n",
    "    return gcd\n",
    "    \n",
    "def multipleStrings(big: str, small: str) -> int:\n",
    "    nums = len(big)%len(small)\n",
    "    if nums!=0:\n",
    "        return 0\n",
    "    check = ''\n",
    "    for i in range(nums):\n",
    "        check=check+small\n",
    "    if big == check:\n",
    "        return 1\n",
    "    else:\n",
    "        return 0"
   ]
  },
  {
   "cell_type": "code",
   "execution_count": 37,
   "id": "6ec453b3-cfd8-4135-a98e-9b46bdf7d552",
   "metadata": {},
   "outputs": [
    {
     "name": "stdout",
     "output_type": "stream",
     "text": [
      "ABC\n",
      "A\n",
      "\n"
     ]
    }
   ],
   "source": [
    "str1 = \"ABCABC\"\n",
    "str2 = \"ABC\"\n",
    "print(gcdOfStrings(str1, str2))"
   ]
  },
  {
   "cell_type": "code",
   "execution_count": null,
   "id": "4998639a-5a19-4549-aea3-d3ca47a8ad66",
   "metadata": {},
   "outputs": [],
   "source": []
  }
 ],
 "metadata": {
  "kernelspec": {
   "display_name": "pytorch2.0",
   "language": "python",
   "name": "pytorch2.0"
  },
  "language_info": {
   "codemirror_mode": {
    "name": "ipython",
    "version": 3
   },
   "file_extension": ".py",
   "mimetype": "text/x-python",
   "name": "python",
   "nbconvert_exporter": "python",
   "pygments_lexer": "ipython3",
   "version": "3.8.18"
  }
 },
 "nbformat": 4,
 "nbformat_minor": 5
}
