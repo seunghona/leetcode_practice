{
 "cells": [
  {
   "cell_type": "code",
   "execution_count": null,
   "id": "b23ab8e3-ac47-4d29-9a14-1bcb143fc00f",
   "metadata": {},
   "outputs": [],
   "source": []
  },
  {
   "cell_type": "code",
   "execution_count": 22,
   "id": "a5ed5269-6540-456e-82be-65061288b15c",
   "metadata": {},
   "outputs": [],
   "source": [
    "# https://leetcode.com/problems/max-consecutive-ones-iii/?envType=study-plan-v2&envId=leetcode-75\n",
    "from typing import List\n",
    "def longestOnes(nums: List[int], k: int) -> int:\n",
    "    wsize = 0\n",
    "    widx = 0\n",
    "    maxw=0\n",
    "    for i in range(len(nums)):\n",
    "        print(nums[i], k)\n",
    "        if nums[i]==1 and k>=0:\n",
    "            print('1')\n",
    "            wsize+=1\n",
    "        elif nums[i]==1 and k<0:\n",
    "            print('2')\n",
    "            widx+=1\n",
    "            if nums[i-wsize]==0:\n",
    "                k+=1\n",
    "        elif nums[i]==0 and k>0:\n",
    "            print('3')\n",
    "            wsize+=1\n",
    "            k-=1\n",
    "        elif nums[i]==0 and k<=0:\n",
    "            print('4')\n",
    "            widx+=1\n",
    "            if nums[i-wsize]==1:\n",
    "                k-=1\n",
    "        if wsize > maxw and k>=0:\n",
    "            maxw=wsize\n",
    "        # print(maxw)\n",
    "    return maxw"
   ]
  },
  {
   "cell_type": "code",
   "execution_count": 24,
   "id": "a8806c62-afa7-4e69-b7bd-47c9061cbbb4",
   "metadata": {},
   "outputs": [
    {
     "name": "stdout",
     "output_type": "stream",
     "text": [
      "1 2\n",
      "1\n",
      "1 2\n",
      "1\n",
      "1 2\n",
      "1\n",
      "0 2\n",
      "3\n",
      "0 1\n",
      "3\n",
      "0 0\n",
      "4\n",
      "1 -1\n",
      "2\n",
      "1 -1\n",
      "2\n",
      "1 -1\n",
      "2\n",
      "1 0\n",
      "1\n",
      "0 0\n",
      "4\n",
      "6\n"
     ]
    }
   ],
   "source": [
    "nums = [1,1,1,0,0,0,1,1,1,1,0]\n",
    "k = 2\n",
    "print(longestOnes(nums,k))"
   ]
  },
  {
   "cell_type": "code",
   "execution_count": null,
   "id": "2f9b8451-be39-4da7-8126-bb7394ca9dfa",
   "metadata": {},
   "outputs": [],
   "source": []
  }
 ],
 "metadata": {
  "kernelspec": {
   "display_name": "pytorch2.0",
   "language": "python",
   "name": "pytorch2.0"
  },
  "language_info": {
   "codemirror_mode": {
    "name": "ipython",
    "version": 3
   },
   "file_extension": ".py",
   "mimetype": "text/x-python",
   "name": "python",
   "nbconvert_exporter": "python",
   "pygments_lexer": "ipython3",
   "version": "3.8.18"
  }
 },
 "nbformat": 4,
 "nbformat_minor": 5
}
