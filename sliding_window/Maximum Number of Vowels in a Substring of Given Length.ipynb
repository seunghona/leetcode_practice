{
 "cells": [
  {
   "cell_type": "code",
   "execution_count": null,
   "id": "7828e277-216f-4773-b1dd-85285cc29c63",
   "metadata": {},
   "outputs": [],
   "source": []
  },
  {
   "cell_type": "code",
   "execution_count": 3,
   "id": "d98ab109-7c77-459b-b68e-32928194aeb4",
   "metadata": {},
   "outputs": [],
   "source": [
    "# https://leetcode.com/problems/maximum-number-of-vowels-in-a-substring-of-given-length/?envType=study-plan-v2&envId=leetcode-75\n",
    "def maxVowels(s: str, k: int) -> int:\n",
    "    s=s.lower()\n",
    "    vowels = ['a', 'e', 'i', 'o', 'u']\n",
    "    nums = []\n",
    "    for i in range(len(s)):\n",
    "        if s[i] in vowels:\n",
    "            nums.append(1)\n",
    "        else:\n",
    "            nums.append(0)\n",
    "    \n",
    "    max = sum(nums[:k])\n",
    "    current = sum(nums[:k])\n",
    "    for i in range(k,len(nums)):\n",
    "        current = current+nums[i]-nums[i-k]\n",
    "        if current>max:\n",
    "            max=current\n",
    "    return max"
   ]
  },
  {
   "cell_type": "code",
   "execution_count": null,
   "id": "6e2236ad-f62f-48f6-8b93-524dd32e2ff2",
   "metadata": {},
   "outputs": [],
   "source": []
  }
 ],
 "metadata": {
  "kernelspec": {
   "display_name": "pytorch2.0",
   "language": "python",
   "name": "pytorch2.0"
  },
  "language_info": {
   "codemirror_mode": {
    "name": "ipython",
    "version": 3
   },
   "file_extension": ".py",
   "mimetype": "text/x-python",
   "name": "python",
   "nbconvert_exporter": "python",
   "pygments_lexer": "ipython3",
   "version": "3.8.18"
  }
 },
 "nbformat": 4,
 "nbformat_minor": 5
}
