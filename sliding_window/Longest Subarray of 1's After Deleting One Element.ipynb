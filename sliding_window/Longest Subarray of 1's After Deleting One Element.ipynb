{
 "cells": [
  {
   "cell_type": "code",
   "execution_count": 2,
   "id": "0c708e67-93f6-4305-970e-03731313c119",
   "metadata": {},
   "outputs": [],
   "source": [
    "# https://leetcode.com/problems/longest-subarray-of-1s-after-deleting-one-element/description/?envType=study-plan-v2&envId=leetcode-75\n",
    "from typing import List\n",
    "def longestSubarray(nums: List[int]) -> int:\n",
    "    if len(nums)==1:\n",
    "        return 0\n",
    "    wsize = 0\n",
    "    widx = 0\n",
    "    maxw=0\n",
    "    k=1\n",
    "    for i in range(len(nums)):\n",
    "        print(nums[i], k)\n",
    "        if nums[i]==1 and k>=0:\n",
    "            print('1')\n",
    "            wsize+=1\n",
    "        elif nums[i]==1 and k<0:\n",
    "            print('2')\n",
    "            widx+=1\n",
    "            if nums[i-wsize]==0:\n",
    "                k+=1\n",
    "        elif nums[i]==0 and k>0:\n",
    "            print('3')\n",
    "            wsize+=1\n",
    "            k-=1\n",
    "        elif nums[i]==0 and k<=0:\n",
    "            print('4')\n",
    "            widx+=1\n",
    "            if nums[i-wsize]==1:\n",
    "                k-=1\n",
    "        if wsize > maxw and k>=0:\n",
    "            maxw=wsize\n",
    "        # print(maxw)\n",
    "    return maxw-1"
   ]
  },
  {
   "cell_type": "code",
   "execution_count": 33,
   "id": "2a0a4a8a-2460-4191-bec2-8f8234df92e8",
   "metadata": {},
   "outputs": [
    {
     "name": "stdout",
     "output_type": "stream",
     "text": [
      "0\n"
     ]
    }
   ],
   "source": [
    "nums = [0]\n",
    "print(longestSubarray(nums))"
   ]
  },
  {
   "cell_type": "markdown",
   "id": "ddf83377-c418-41be-a282-61423369895f",
   "metadata": {},
   "source": [
    "### NEW"
   ]
  },
  {
   "cell_type": "code",
   "execution_count": 32,
   "id": "e9c749d6-aa13-4ade-8726-5dbfe7dd8263",
   "metadata": {},
   "outputs": [],
   "source": [
    "def longestSubarray(nums: List[int]) -> int:\n",
    "    if len(nums)==1:\n",
    "        return 0\n",
    "    ones = []\n",
    "    cnt=0\n",
    "    for i in range(len(nums)):\n",
    "        if nums[i]==1:\n",
    "            cnt+=1\n",
    "        else:\n",
    "            ones.append(cnt)\n",
    "            cnt=0\n",
    "    if cnt>0:\n",
    "        ones.append(cnt)\n",
    "    print(ones)\n",
    "    if len(ones)==1:\n",
    "        return ones[0]-1\n",
    "    max=0\n",
    "    for i in range(len(ones)-1):\n",
    "        temp=ones[i]+ones[i+1]\n",
    "        if temp>max:\n",
    "            max=temp\n",
    "    return max"
   ]
  },
  {
   "cell_type": "code",
   "execution_count": null,
   "id": "957d6aa1-35cf-4b5b-bffa-7176390dfc32",
   "metadata": {},
   "outputs": [],
   "source": []
  }
 ],
 "metadata": {
  "kernelspec": {
   "display_name": "pytorch2.0",
   "language": "python",
   "name": "pytorch2.0"
  },
  "language_info": {
   "codemirror_mode": {
    "name": "ipython",
    "version": 3
   },
   "file_extension": ".py",
   "mimetype": "text/x-python",
   "name": "python",
   "nbconvert_exporter": "python",
   "pygments_lexer": "ipython3",
   "version": "3.8.18"
  }
 },
 "nbformat": 4,
 "nbformat_minor": 5
}
