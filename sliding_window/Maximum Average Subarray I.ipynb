{
 "cells": [
  {
   "cell_type": "code",
   "execution_count": null,
   "id": "c6126b59-22f9-4e90-8658-1e8094885448",
   "metadata": {},
   "outputs": [],
   "source": []
  },
  {
   "cell_type": "code",
   "execution_count": 2,
   "id": "5bd6a1ec-a3e1-4f88-b7eb-454dbdde79a2",
   "metadata": {},
   "outputs": [],
   "source": [
    "# https://leetcode.com/problems/maximum-average-subarray-i/?envType=study-plan-v2&envId=leetcode-75\n",
    "from typing import List\n",
    "def findMaxAverage(nums: List[int], k: int) -> float:\n",
    "    max = sum(nums[:k])\n",
    "    current = sum(nums[:k])\n",
    "    for i in range(k,len(nums)):\n",
    "        current = current+nums[i]-nums[i-k]\n",
    "        if current>max:\n",
    "            max=current\n",
    "    return max/k\n",
    "            "
   ]
  },
  {
   "cell_type": "code",
   "execution_count": null,
   "id": "2421c698-5317-4cf1-a98a-2f379110bb1c",
   "metadata": {},
   "outputs": [],
   "source": []
  }
 ],
 "metadata": {
  "kernelspec": {
   "display_name": "pytorch2.0",
   "language": "python",
   "name": "pytorch2.0"
  },
  "language_info": {
   "codemirror_mode": {
    "name": "ipython",
    "version": 3
   },
   "file_extension": ".py",
   "mimetype": "text/x-python",
   "name": "python",
   "nbconvert_exporter": "python",
   "pygments_lexer": "ipython3",
   "version": "3.8.18"
  }
 },
 "nbformat": 4,
 "nbformat_minor": 5
}
