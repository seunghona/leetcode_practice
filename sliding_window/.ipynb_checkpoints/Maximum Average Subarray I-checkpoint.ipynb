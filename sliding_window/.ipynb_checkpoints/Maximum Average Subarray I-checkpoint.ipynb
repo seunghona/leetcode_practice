{
 "cells": [
  {
   "cell_type": "code",
   "execution_count": null,
   "id": "c6126b59-22f9-4e90-8658-1e8094885448",
   "metadata": {},
   "outputs": [],
   "source": []
  },
  {
   "cell_type": "code",
   "execution_count": null,
   "id": "5bd6a1ec-a3e1-4f88-b7eb-454dbdde79a2",
   "metadata": {},
   "outputs": [],
   "source": [
    "# https://leetcode.com/problems/maximum-average-subarray-i/?envType=study-plan-v2&envId=leetcode-75\n",
    "def findMaxAverage(nums: List[int], k: int) -> float:\n",
    "    "
   ]
  }
 ],
 "metadata": {
  "kernelspec": {
   "display_name": "pytorch2.0",
   "language": "python",
   "name": "pytorch2.0"
  },
  "language_info": {
   "codemirror_mode": {
    "name": "ipython",
    "version": 3
   },
   "file_extension": ".py",
   "mimetype": "text/x-python",
   "name": "python",
   "nbconvert_exporter": "python",
   "pygments_lexer": "ipython3",
   "version": "3.8.18"
  }
 },
 "nbformat": 4,
 "nbformat_minor": 5
}
